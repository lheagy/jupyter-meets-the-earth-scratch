{
 "cells": [
  {
   "cell_type": "markdown",
   "metadata": {},
   "source": [
    "# Interactive exploration with widgets - an example\n",
    "\n",
    "In this example, we work with atmospheric CO$_2$ data acquired at Mauna Loa. We will compare the original data with the seasonally averaged data and see if we can obtain similar results using a moving average. \n",
    "\n",
    "Data source: https://scrippsco2.ucsd.edu/data/atmospheric_co2/primary_mlo_co2_record.html\n",
    "\n",
    "<img src=\"https://scrippsco2.ucsd.edu/assets/images/mlo_station_map.png\" width=60%>"
   ]
  },
  {
   "cell_type": "markdown",
   "metadata": {},
   "source": [
    "## Imports"
   ]
  },
  {
   "cell_type": "code",
   "execution_count": null,
   "metadata": {},
   "outputs": [],
   "source": [
    "import numpy as np\n",
    "import pandas as pd\n",
    "from scipy import signal\n",
    "import matplotlib.pyplot as plt\n",
    "import ipywidgets"
   ]
  },
  {
   "cell_type": "markdown",
   "metadata": {},
   "source": [
    "set a nice font size"
   ]
  },
  {
   "cell_type": "code",
   "execution_count": null,
   "metadata": {},
   "outputs": [],
   "source": [
    "from matplotlib import rcParams\n",
    "rcParams[\"font.size\"]=14"
   ]
  },
  {
   "cell_type": "markdown",
   "metadata": {},
   "source": [
    "## Load the data into pandas"
   ]
  },
  {
   "cell_type": "code",
   "execution_count": null,
   "metadata": {},
   "outputs": [],
   "source": [
    "co2_data_source = \"https://scrippsco2.ucsd.edu/assets/data/atmospheric/stations/in_situ_co2/monthly/monthly_in_situ_co2_mlo.csv\""
   ]
  },
  {
   "cell_type": "code",
   "execution_count": null,
   "metadata": {},
   "outputs": [],
   "source": [
    "# read data and do some data cleaning \n",
    "co2_data = pd.read_csv(\n",
    "    co2_data_source, skiprows=np.arange(0, 56), na_values=\"-99.99\",\n",
    ")"
   ]
  },
  {
   "cell_type": "code",
   "execution_count": null,
   "metadata": {},
   "outputs": [],
   "source": [
    "co2_data"
   ]
  },
  {
   "cell_type": "markdown",
   "metadata": {},
   "source": [
    "## What are our data? \n",
    "\n",
    "\n",
    "> The data file below contains 10 columns.  Columns 1-4 give the dates in several redundant  formats. Column 5 below gives monthly Mauna Loa CO2 concentrations in micro-mol CO2 per  mole (ppm), reported on the 2008A SIO manometric mole fraction scale.  This is the  standard version of the data most often sought.  The monthly values have been adjusted  to 24:00 hours on the 15th of each month.  Column 6 gives the same data after a seasonal adjustment to remove the quasi-regular seasonal cycle.  The adjustment involves  subtracting from the data a 4-harmonic fit with a linear gain factor.  Column 7 is a  smoothed version of the data generated from a stiff cubic spline function plus 4-harmonic  functions with linear gain.  Column 8 is the same smoothed version with the seasonal  cycle removed.  Column 9 is identical to Column 5 except that the missing values from  Column 5 have been filled with values from Column 7.  Column 10 is identical to Column 6   except missing values have been filled with values from Column 8.  Missing values are  denoted by -99.99                                                                         "
   ]
  },
  {
   "cell_type": "code",
   "execution_count": null,
   "metadata": {},
   "outputs": [],
   "source": [
    "co2_data.columns = [\n",
    "    \"year\", \"month\", \"date (int)\", \"date\", \"co2\", \"seasonally adjusted\",\n",
    "    \"fit\", \"seasonally adjusted fit\", \"co2 filled\", \"seasonally adjusted filled\" \n",
    "]"
   ]
  },
  {
   "cell_type": "code",
   "execution_count": null,
   "metadata": {},
   "outputs": [],
   "source": [
    "co2_data"
   ]
  },
  {
   "cell_type": "markdown",
   "metadata": {},
   "source": [
    "## Simple data cleaning\n",
    "\n",
    "Here we remove the rows where the CO_2 data are NaNs"
   ]
  },
  {
   "cell_type": "code",
   "execution_count": null,
   "metadata": {},
   "outputs": [],
   "source": [
    "# grab the subset of data where co2 do not have NaNs\n",
    "inds = ~np.isnan(co2_data[\"co2\"])  \n",
    "co2_data_clean = co2_data[inds]\n",
    "co2_data_clean"
   ]
  },
  {
   "cell_type": "code",
   "execution_count": null,
   "metadata": {},
   "outputs": [],
   "source": [
    "fig, ax = plt.subplots(1, 1, figsize=(10, 5))\n",
    "ax.plot(\n",
    "    co2_data_clean[\"date\"], co2_data_clean[\"co2\"], \n",
    "    label=\"CO$_2$ [ppm]\"\n",
    ")\n",
    "ax.plot(\n",
    "    co2_data_clean[\"date\"], co2_data_clean[\"seasonally adjusted\"], \n",
    "    label=\"seasonally adjusted\",\n",
    ")\n",
    "ax.set_xlabel(\"Year\")\n",
    "ax.set_ylabel(\"CO$_2$ Concentration (ppm)\")\n",
    "ax.grid()\n",
    "ax.legend()"
   ]
  },
  {
   "cell_type": "markdown",
   "metadata": {},
   "source": [
    "## Moving average to remove seasonal variations\n",
    "\n",
    "Does using a moving average produce similar results as the seasonally adjusted data provided by scripps? \n",
    "\n",
    "**Note**: we are being a bit sloppy here with the averaging - this assumes that the NaN's are all at the beginning / end of the time-series. "
   ]
  },
  {
   "cell_type": "code",
   "execution_count": null,
   "metadata": {},
   "outputs": [],
   "source": [
    "window_size = 10\n",
    "\n",
    "n_data = co2_data_clean.shape[0]\n",
    "average = np.full(n_data, np.nan)\n",
    "half_window = window_size // 2\n",
    "for i in range(half_window, n_data - half_window):\n",
    "    average[i] = np.mean(co2_data_clean[\"co2\"][i - half_window: i + half_window])"
   ]
  },
  {
   "cell_type": "code",
   "execution_count": null,
   "metadata": {},
   "outputs": [],
   "source": [
    "fig, ax = plt.subplots(1, 1, figsize=(10, 5))\n",
    "ax.plot(\n",
    "    co2_data_clean[\"date\"], co2_data_clean[\"co2\"], \n",
    "    label=\"CO$_2$ [ppm]\"\n",
    ")\n",
    "ax.plot(\n",
    "    co2_data_clean[\"date\"], co2_data_clean[\"seasonally adjusted\"], \n",
    "    label=\"seasonally adjusted\"\n",
    ")\n",
    "ax.plot(\n",
    "    co2_data_clean[\"date\"], average, \n",
    "    label=f\"moving average: {window_size}\"\n",
    ")\n",
    "ax.set_xlabel(\"Year\")\n",
    "ax.set_ylabel(\"CO$_2$ Concentration (ppm)\")\n",
    "ax.grid()\n",
    "ax.legend()\n",
    "\n",
    "ax.set_xlim([2010, 2020])\n",
    "ax.set_ylim([380, 420])"
   ]
  },
  {
   "cell_type": "code",
   "execution_count": null,
   "metadata": {},
   "outputs": [],
   "source": []
  }
 ],
 "metadata": {
  "kernelspec": {
   "display_name": "Python 3",
   "language": "python",
   "name": "python3"
  },
  "language_info": {
   "codemirror_mode": {
    "name": "ipython",
    "version": 3
   },
   "file_extension": ".py",
   "mimetype": "text/x-python",
   "name": "python",
   "nbconvert_exporter": "python",
   "pygments_lexer": "ipython3",
   "version": "3.7.3"
  }
 },
 "nbformat": 4,
 "nbformat_minor": 4
}
